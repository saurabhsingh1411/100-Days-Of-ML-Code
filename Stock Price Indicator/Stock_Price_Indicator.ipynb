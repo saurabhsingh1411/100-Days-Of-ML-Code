{
  "nbformat": 4,
  "nbformat_minor": 0,
  "metadata": {
    "colab": {
      "name": "Stock Price Indicator.ipynb",
      "provenance": [],
      "authorship_tag": "ABX9TyPLwlj/+RoeHcTRz6Jayvbt",
      "include_colab_link": true
    },
    "kernelspec": {
      "name": "python3",
      "display_name": "Python 3"
    }
  },
  "cells": [
    {
      "cell_type": "markdown",
      "metadata": {
        "id": "view-in-github",
        "colab_type": "text"
      },
      "source": [
        "<a href=\"https://colab.research.google.com/github/saurabhsingh1411/100-Days-Of-ML-Code/blob/master/Stock%20Price%20Indicator/Stock_Price_Indicator.ipynb\" target=\"_parent\"><img src=\"https://colab.research.google.com/assets/colab-badge.svg\" alt=\"Open In Colab\"/></a>"
      ]
    },
    {
      "cell_type": "code",
      "metadata": {
        "id": "mjQ1fcN2BtnH"
      },
      "source": [
        "import numpy as np\r\n",
        "import pandas as pd\r\n",
        "import matplotlib.pyplot as plt"
      ],
      "execution_count": 1,
      "outputs": []
    },
    {
      "cell_type": "code",
      "metadata": {
        "id": "TbnXGN0_Chq_"
      },
      "source": [
        "stock=pd.read_csv('TCS.csv')"
      ],
      "execution_count": 2,
      "outputs": []
    },
    {
      "cell_type": "code",
      "metadata": {
        "colab": {
          "base_uri": "https://localhost:8080/",
          "height": 204
        },
        "id": "cNJtDF0SCiJX",
        "outputId": "bd42f1d9-0680-406f-d3a9-ab1824be4fb3"
      },
      "source": [
        "stock.head()"
      ],
      "execution_count": 3,
      "outputs": [
        {
          "output_type": "execute_result",
          "data": {
            "text/html": [
              "<div>\n",
              "<style scoped>\n",
              "    .dataframe tbody tr th:only-of-type {\n",
              "        vertical-align: middle;\n",
              "    }\n",
              "\n",
              "    .dataframe tbody tr th {\n",
              "        vertical-align: top;\n",
              "    }\n",
              "\n",
              "    .dataframe thead th {\n",
              "        text-align: right;\n",
              "    }\n",
              "</style>\n",
              "<table border=\"1\" class=\"dataframe\">\n",
              "  <thead>\n",
              "    <tr style=\"text-align: right;\">\n",
              "      <th></th>\n",
              "      <th>Date</th>\n",
              "      <th>Open</th>\n",
              "      <th>High</th>\n",
              "      <th>Low</th>\n",
              "      <th>Last</th>\n",
              "      <th>Close</th>\n",
              "      <th>Total Trade Quantity</th>\n",
              "      <th>Turnover (Lacs)</th>\n",
              "    </tr>\n",
              "  </thead>\n",
              "  <tbody>\n",
              "    <tr>\n",
              "      <th>0</th>\n",
              "      <td>2018-12-03</td>\n",
              "      <td>1984.00</td>\n",
              "      <td>1990.0</td>\n",
              "      <td>1968.3</td>\n",
              "      <td>1984.00</td>\n",
              "      <td>1982.40</td>\n",
              "      <td>1610576.0</td>\n",
              "      <td>31868.00</td>\n",
              "    </tr>\n",
              "    <tr>\n",
              "      <th>1</th>\n",
              "      <td>2018-12-04</td>\n",
              "      <td>1983.00</td>\n",
              "      <td>2019.4</td>\n",
              "      <td>1971.0</td>\n",
              "      <td>2009.85</td>\n",
              "      <td>2010.85</td>\n",
              "      <td>3270615.0</td>\n",
              "      <td>65568.23</td>\n",
              "    </tr>\n",
              "    <tr>\n",
              "      <th>2</th>\n",
              "      <td>2018-12-05</td>\n",
              "      <td>2006.00</td>\n",
              "      <td>2018.0</td>\n",
              "      <td>1985.0</td>\n",
              "      <td>2003.90</td>\n",
              "      <td>2006.75</td>\n",
              "      <td>2501539.0</td>\n",
              "      <td>50131.23</td>\n",
              "    </tr>\n",
              "    <tr>\n",
              "      <th>3</th>\n",
              "      <td>2018-12-06</td>\n",
              "      <td>1998.00</td>\n",
              "      <td>2017.0</td>\n",
              "      <td>1979.6</td>\n",
              "      <td>1990.00</td>\n",
              "      <td>1992.70</td>\n",
              "      <td>2321216.0</td>\n",
              "      <td>46373.71</td>\n",
              "    </tr>\n",
              "    <tr>\n",
              "      <th>4</th>\n",
              "      <td>2018-12-07</td>\n",
              "      <td>1985.05</td>\n",
              "      <td>2003.9</td>\n",
              "      <td>1973.0</td>\n",
              "      <td>1999.85</td>\n",
              "      <td>1995.20</td>\n",
              "      <td>1680420.0</td>\n",
              "      <td>33463.26</td>\n",
              "    </tr>\n",
              "  </tbody>\n",
              "</table>\n",
              "</div>"
            ],
            "text/plain": [
              "         Date     Open    High  ...    Close  Total Trade Quantity  Turnover (Lacs)\n",
              "0  2018-12-03  1984.00  1990.0  ...  1982.40             1610576.0         31868.00\n",
              "1  2018-12-04  1983.00  2019.4  ...  2010.85             3270615.0         65568.23\n",
              "2  2018-12-05  2006.00  2018.0  ...  2006.75             2501539.0         50131.23\n",
              "3  2018-12-06  1998.00  2017.0  ...  1992.70             2321216.0         46373.71\n",
              "4  2018-12-07  1985.05  2003.9  ...  1995.20             1680420.0         33463.26\n",
              "\n",
              "[5 rows x 8 columns]"
            ]
          },
          "metadata": {
            "tags": []
          },
          "execution_count": 3
        }
      ]
    },
    {
      "cell_type": "code",
      "metadata": {
        "colab": {
          "base_uri": "https://localhost:8080/"
        },
        "id": "rVnAslyuCiMW",
        "outputId": "99b9bb96-3581-416b-acf9-54a263b6e461"
      },
      "source": [
        "stock.isnull().sum()"
      ],
      "execution_count": 5,
      "outputs": [
        {
          "output_type": "execute_result",
          "data": {
            "text/plain": [
              "Date                    0\n",
              "Open                    0\n",
              "High                    0\n",
              "Low                     0\n",
              "Last                    0\n",
              "Close                   0\n",
              "Total Trade Quantity    0\n",
              "Turnover (Lacs)         0\n",
              "dtype: int64"
            ]
          },
          "metadata": {
            "tags": []
          },
          "execution_count": 5
        }
      ]
    },
    {
      "cell_type": "code",
      "metadata": {
        "colab": {
          "base_uri": "https://localhost:8080/",
          "height": 266
        },
        "id": "oaKbj5qzCiZg",
        "outputId": "dbb1304c-8c0c-455d-9dad-c2301ef49bd9"
      },
      "source": [
        "corr=stock.corr()\r\n",
        "corr"
      ],
      "execution_count": 7,
      "outputs": [
        {
          "output_type": "execute_result",
          "data": {
            "text/html": [
              "<div>\n",
              "<style scoped>\n",
              "    .dataframe tbody tr th:only-of-type {\n",
              "        vertical-align: middle;\n",
              "    }\n",
              "\n",
              "    .dataframe tbody tr th {\n",
              "        vertical-align: top;\n",
              "    }\n",
              "\n",
              "    .dataframe thead th {\n",
              "        text-align: right;\n",
              "    }\n",
              "</style>\n",
              "<table border=\"1\" class=\"dataframe\">\n",
              "  <thead>\n",
              "    <tr style=\"text-align: right;\">\n",
              "      <th></th>\n",
              "      <th>Open</th>\n",
              "      <th>High</th>\n",
              "      <th>Low</th>\n",
              "      <th>Last</th>\n",
              "      <th>Close</th>\n",
              "      <th>Total Trade Quantity</th>\n",
              "      <th>Turnover (Lacs)</th>\n",
              "    </tr>\n",
              "  </thead>\n",
              "  <tbody>\n",
              "    <tr>\n",
              "      <th>Open</th>\n",
              "      <td>1.000000</td>\n",
              "      <td>0.937777</td>\n",
              "      <td>0.925625</td>\n",
              "      <td>0.889651</td>\n",
              "      <td>0.886413</td>\n",
              "      <td>-0.145327</td>\n",
              "      <td>-0.091618</td>\n",
              "    </tr>\n",
              "    <tr>\n",
              "      <th>High</th>\n",
              "      <td>0.937777</td>\n",
              "      <td>1.000000</td>\n",
              "      <td>0.935803</td>\n",
              "      <td>0.946352</td>\n",
              "      <td>0.956137</td>\n",
              "      <td>-0.064046</td>\n",
              "      <td>-0.005265</td>\n",
              "    </tr>\n",
              "    <tr>\n",
              "      <th>Low</th>\n",
              "      <td>0.925625</td>\n",
              "      <td>0.935803</td>\n",
              "      <td>1.000000</td>\n",
              "      <td>0.964793</td>\n",
              "      <td>0.968353</td>\n",
              "      <td>-0.353678</td>\n",
              "      <td>-0.297565</td>\n",
              "    </tr>\n",
              "    <tr>\n",
              "      <th>Last</th>\n",
              "      <td>0.889651</td>\n",
              "      <td>0.946352</td>\n",
              "      <td>0.964793</td>\n",
              "      <td>1.000000</td>\n",
              "      <td>0.995482</td>\n",
              "      <td>-0.220357</td>\n",
              "      <td>-0.162985</td>\n",
              "    </tr>\n",
              "    <tr>\n",
              "      <th>Close</th>\n",
              "      <td>0.886413</td>\n",
              "      <td>0.956137</td>\n",
              "      <td>0.968353</td>\n",
              "      <td>0.995482</td>\n",
              "      <td>1.000000</td>\n",
              "      <td>-0.223675</td>\n",
              "      <td>-0.165647</td>\n",
              "    </tr>\n",
              "    <tr>\n",
              "      <th>Total Trade Quantity</th>\n",
              "      <td>-0.145327</td>\n",
              "      <td>-0.064046</td>\n",
              "      <td>-0.353678</td>\n",
              "      <td>-0.220357</td>\n",
              "      <td>-0.223675</td>\n",
              "      <td>1.000000</td>\n",
              "      <td>0.998061</td>\n",
              "    </tr>\n",
              "    <tr>\n",
              "      <th>Turnover (Lacs)</th>\n",
              "      <td>-0.091618</td>\n",
              "      <td>-0.005265</td>\n",
              "      <td>-0.297565</td>\n",
              "      <td>-0.162985</td>\n",
              "      <td>-0.165647</td>\n",
              "      <td>0.998061</td>\n",
              "      <td>1.000000</td>\n",
              "    </tr>\n",
              "  </tbody>\n",
              "</table>\n",
              "</div>"
            ],
            "text/plain": [
              "                          Open      High  ...  Total Trade Quantity  Turnover (Lacs)\n",
              "Open                  1.000000  0.937777  ...             -0.145327        -0.091618\n",
              "High                  0.937777  1.000000  ...             -0.064046        -0.005265\n",
              "Low                   0.925625  0.935803  ...             -0.353678        -0.297565\n",
              "Last                  0.889651  0.946352  ...             -0.220357        -0.162985\n",
              "Close                 0.886413  0.956137  ...             -0.223675        -0.165647\n",
              "Total Trade Quantity -0.145327 -0.064046  ...              1.000000         0.998061\n",
              "Turnover (Lacs)      -0.091618 -0.005265  ...              0.998061         1.000000\n",
              "\n",
              "[7 rows x 7 columns]"
            ]
          },
          "metadata": {
            "tags": []
          },
          "execution_count": 7
        }
      ]
    },
    {
      "cell_type": "code",
      "metadata": {
        "colab": {
          "base_uri": "https://localhost:8080/",
          "height": 469
        },
        "id": "NNr4ZlgZEAYZ",
        "outputId": "fced8b0e-a9d3-4ad1-8b70-6f1d73d61dc2"
      },
      "source": [
        "import seaborn as sns\r\n",
        "plt.figure(1,figsize=(17,8))\r\n",
        "cor=sns.heatmap(stock.corr(),annot=True)\r\n"
      ],
      "execution_count": 12,
      "outputs": [
        {
          "output_type": "display_data",
          "data": {
            "image/png": "[encoded data removed]",
            "text/plain": [
              "<Figure size 1224x576 with 2 Axes>"
            ]
          },
          "metadata": {
            "tags": [],
            "needs_background": "light"
          }
        }
      ]
    },
    {
      "cell_type": "code",
      "metadata": {
        "colab": {
          "base_uri": "https://localhost:8080/",
          "height": 204
        },
        "id": "rU0AbA-lLV0Z",
        "outputId": "497738ef-55c8-423f-9fdc-ce20ee886fb6"
      },
      "source": [
        "stock.head()"
      ],
      "execution_count": 13,
      "outputs": [
        {
          "output_type": "execute_result",
          "data": {
            "text/html": [
              "<div>\n",
              "<style scoped>\n",
              "    .dataframe tbody tr th:only-of-type {\n",
              "        vertical-align: middle;\n",
              "    }\n",
              "\n",
              "    .dataframe tbody tr th {\n",
              "        vertical-align: top;\n",
              "    }\n",
              "\n",
              "    .dataframe thead th {\n",
              "        text-align: right;\n",
              "    }\n",
              "</style>\n",
              "<table border=\"1\" class=\"dataframe\">\n",
              "  <thead>\n",
              "    <tr style=\"text-align: right;\">\n",
              "      <th></th>\n",
              "      <th>Date</th>\n",
              "      <th>Open</th>\n",
              "      <th>High</th>\n",
              "      <th>Low</th>\n",
              "      <th>Last</th>\n",
              "      <th>Close</th>\n",
              "      <th>Total Trade Quantity</th>\n",
              "      <th>Turnover (Lacs)</th>\n",
              "    </tr>\n",
              "  </thead>\n",
              "  <tbody>\n",
              "    <tr>\n",
              "      <th>0</th>\n",
              "      <td>2018-12-03</td>\n",
              "      <td>1984.00</td>\n",
              "      <td>1990.0</td>\n",
              "      <td>1968.3</td>\n",
              "      <td>1984.00</td>\n",
              "      <td>1982.40</td>\n",
              "      <td>1610576.0</td>\n",
              "      <td>31868.00</td>\n",
              "    </tr>\n",
              "    <tr>\n",
              "      <th>1</th>\n",
              "      <td>2018-12-04</td>\n",
              "      <td>1983.00</td>\n",
              "      <td>2019.4</td>\n",
              "      <td>1971.0</td>\n",
              "      <td>2009.85</td>\n",
              "      <td>2010.85</td>\n",
              "      <td>3270615.0</td>\n",
              "      <td>65568.23</td>\n",
              "    </tr>\n",
              "    <tr>\n",
              "      <th>2</th>\n",
              "      <td>2018-12-05</td>\n",
              "      <td>2006.00</td>\n",
              "      <td>2018.0</td>\n",
              "      <td>1985.0</td>\n",
              "      <td>2003.90</td>\n",
              "      <td>2006.75</td>\n",
              "      <td>2501539.0</td>\n",
              "      <td>50131.23</td>\n",
              "    </tr>\n",
              "    <tr>\n",
              "      <th>3</th>\n",
              "      <td>2018-12-06</td>\n",
              "      <td>1998.00</td>\n",
              "      <td>2017.0</td>\n",
              "      <td>1979.6</td>\n",
              "      <td>1990.00</td>\n",
              "      <td>1992.70</td>\n",
              "      <td>2321216.0</td>\n",
              "      <td>46373.71</td>\n",
              "    </tr>\n",
              "    <tr>\n",
              "      <th>4</th>\n",
              "      <td>2018-12-07</td>\n",
              "      <td>1985.05</td>\n",
              "      <td>2003.9</td>\n",
              "      <td>1973.0</td>\n",
              "      <td>1999.85</td>\n",
              "      <td>1995.20</td>\n",
              "      <td>1680420.0</td>\n",
              "      <td>33463.26</td>\n",
              "    </tr>\n",
              "  </tbody>\n",
              "</table>\n",
              "</div>"
            ],
            "text/plain": [
              "         Date     Open    High  ...    Close  Total Trade Quantity  Turnover (Lacs)\n",
              "0  2018-12-03  1984.00  1990.0  ...  1982.40             1610576.0         31868.00\n",
              "1  2018-12-04  1983.00  2019.4  ...  2010.85             3270615.0         65568.23\n",
              "2  2018-12-05  2006.00  2018.0  ...  2006.75             2501539.0         50131.23\n",
              "3  2018-12-06  1998.00  2017.0  ...  1992.70             2321216.0         46373.71\n",
              "4  2018-12-07  1985.05  2003.9  ...  1995.20             1680420.0         33463.26\n",
              "\n",
              "[5 rows x 8 columns]"
            ]
          },
          "metadata": {
            "tags": []
          },
          "execution_count": 13
        }
      ]
    },
    {
      "cell_type": "code",
      "metadata": {
        "id": "LQlDKA-sLV3M"
      },
      "source": [
        "features=['High','Low','Close','Last','Close','Total Trade Quantity','Turnover (Lacs)']\r\n",
        "x=stock[features]\r\n",
        "y=stock['Open']"
      ],
      "execution_count": 26,
      "outputs": []
    },
    {
      "cell_type": "code",
      "metadata": {
        "colab": {
          "base_uri": "https://localhost:8080/",
          "height": 197
        },
        "id": "Cpz4XMGgLV6N",
        "outputId": "b8460ee4-9176-4c99-d51c-a392e12be393"
      },
      "source": [
        "x.head(5)"
      ],
      "execution_count": 27,
      "outputs": [
        {
          "output_type": "execute_result",
          "data": {
            "text/html": [
              "<div>\n",
              "<style scoped>\n",
              "    .dataframe tbody tr th:only-of-type {\n",
              "        vertical-align: middle;\n",
              "    }\n",
              "\n",
              "    .dataframe tbody tr th {\n",
              "        vertical-align: top;\n",
              "    }\n",
              "\n",
              "    .dataframe thead th {\n",
              "        text-align: right;\n",
              "    }\n",
              "</style>\n",
              "<table border=\"1\" class=\"dataframe\">\n",
              "  <thead>\n",
              "    <tr style=\"text-align: right;\">\n",
              "      <th></th>\n",
              "      <th>High</th>\n",
              "      <th>Low</th>\n",
              "      <th>Close</th>\n",
              "      <th>Last</th>\n",
              "      <th>Close</th>\n",
              "      <th>Total Trade Quantity</th>\n",
              "      <th>Turnover (Lacs)</th>\n",
              "    </tr>\n",
              "  </thead>\n",
              "  <tbody>\n",
              "    <tr>\n",
              "      <th>0</th>\n",
              "      <td>1990.0</td>\n",
              "      <td>1968.3</td>\n",
              "      <td>1982.40</td>\n",
              "      <td>1984.00</td>\n",
              "      <td>1982.40</td>\n",
              "      <td>1610576.0</td>\n",
              "      <td>31868.00</td>\n",
              "    </tr>\n",
              "    <tr>\n",
              "      <th>1</th>\n",
              "      <td>2019.4</td>\n",
              "      <td>1971.0</td>\n",
              "      <td>2010.85</td>\n",
              "      <td>2009.85</td>\n",
              "      <td>2010.85</td>\n",
              "      <td>3270615.0</td>\n",
              "      <td>65568.23</td>\n",
              "    </tr>\n",
              "    <tr>\n",
              "      <th>2</th>\n",
              "      <td>2018.0</td>\n",
              "      <td>1985.0</td>\n",
              "      <td>2006.75</td>\n",
              "      <td>2003.90</td>\n",
              "      <td>2006.75</td>\n",
              "      <td>2501539.0</td>\n",
              "      <td>50131.23</td>\n",
              "    </tr>\n",
              "    <tr>\n",
              "      <th>3</th>\n",
              "      <td>2017.0</td>\n",
              "      <td>1979.6</td>\n",
              "      <td>1992.70</td>\n",
              "      <td>1990.00</td>\n",
              "      <td>1992.70</td>\n",
              "      <td>2321216.0</td>\n",
              "      <td>46373.71</td>\n",
              "    </tr>\n",
              "    <tr>\n",
              "      <th>4</th>\n",
              "      <td>2003.9</td>\n",
              "      <td>1973.0</td>\n",
              "      <td>1995.20</td>\n",
              "      <td>1999.85</td>\n",
              "      <td>1995.20</td>\n",
              "      <td>1680420.0</td>\n",
              "      <td>33463.26</td>\n",
              "    </tr>\n",
              "  </tbody>\n",
              "</table>\n",
              "</div>"
            ],
            "text/plain": [
              "     High     Low    Close  ...    Close  Total Trade Quantity  Turnover (Lacs)\n",
              "0  1990.0  1968.3  1982.40  ...  1982.40             1610576.0         31868.00\n",
              "1  2019.4  1971.0  2010.85  ...  2010.85             3270615.0         65568.23\n",
              "2  2018.0  1985.0  2006.75  ...  2006.75             2501539.0         50131.23\n",
              "3  2017.0  1979.6  1992.70  ...  1992.70             2321216.0         46373.71\n",
              "4  2003.9  1973.0  1995.20  ...  1995.20             1680420.0         33463.26\n",
              "\n",
              "[5 rows x 7 columns]"
            ]
          },
          "metadata": {
            "tags": []
          },
          "execution_count": 27
        }
      ]
    },
    {
      "cell_type": "code",
      "metadata": {
        "id": "r3RHZ-oLOXCX"
      },
      "source": [
        "from sklearn.model_selection import train_test_split\r\n",
        "x_train,x_test,y_train,y_test=train_test_split(x,y,test_size=0.1,random_state=0)"
      ],
      "execution_count": 29,
      "outputs": []
    },
    {
      "cell_type": "code",
      "metadata": {
        "id": "tHLsBXHcTBIl"
      },
      "source": [
        "from sklearn.linear_model import LinearRegression\r\n",
        "lr=LinearRegression()"
      ],
      "execution_count": 30,
      "outputs": []
    },
    {
      "cell_type": "code",
      "metadata": {
        "colab": {
          "base_uri": "https://localhost:8080/"
        },
        "id": "ETE4Js3ATB1_",
        "outputId": "c5aa2852-20e2-4f88-de1d-36e0cf71b939"
      },
      "source": [
        "lr.fit(x_train,y_train)"
      ],
      "execution_count": 31,
      "outputs": [
        {
          "output_type": "execute_result",
          "data": {
            "text/plain": [
              "LinearRegression(copy_X=True, fit_intercept=True, n_jobs=None, normalize=False)"
            ]
          },
          "metadata": {
            "tags": []
          },
          "execution_count": 31
        }
      ]
    },
    {
      "cell_type": "code",
      "metadata": {
        "id": "5H34-cG3TB5G"
      },
      "source": [
        "y_pred=lr.predict(x_test)"
      ],
      "execution_count": 32,
      "outputs": []
    },
    {
      "cell_type": "code",
      "metadata": {
        "colab": {
          "base_uri": "https://localhost:8080/"
        },
        "id": "Hdf1_9NHTB70",
        "outputId": "e603e1ec-3f27-4d70-e713-a830c6cc6105"
      },
      "source": [
        "lr.score(x_test,y_pred)"
      ],
      "execution_count": 33,
      "outputs": [
        {
          "output_type": "execute_result",
          "data": {
            "text/plain": [
              "1.0"
            ]
          },
          "metadata": {
            "tags": []
          },
          "execution_count": 33
        }
      ]
    },
    {
      "cell_type": "code",
      "metadata": {
        "id": "fUFtIFdoWMtm"
      },
      "source": [
        "from sklearn.metrics import mean_squared_error\r\n",
        "\r\n",
        "rms = mean_squared_error(y_test, y_pred, squared=False)"
      ],
      "execution_count": 34,
      "outputs": []
    },
    {
      "cell_type": "code",
      "metadata": {
        "colab": {
          "base_uri": "https://localhost:8080/"
        },
        "id": "4D3DVyhnWZIt",
        "outputId": "adef4ae0-2863-41af-eaaf-c4db1f2dd6b3"
      },
      "source": [
        "rms"
      ],
      "execution_count": 35,
      "outputs": [
        {
          "output_type": "execute_result",
          "data": {
            "text/plain": [
              "0.5214890641120464"
            ]
          },
          "metadata": {
            "tags": []
          },
          "execution_count": 35
        }
      ]
    },
    {
      "cell_type": "code",
      "metadata": {
        "id": "E-eqcviAWaLk"
      },
      "source": [
        ""
      ],
      "execution_count": null,
      "outputs": []
    }
  ]
}